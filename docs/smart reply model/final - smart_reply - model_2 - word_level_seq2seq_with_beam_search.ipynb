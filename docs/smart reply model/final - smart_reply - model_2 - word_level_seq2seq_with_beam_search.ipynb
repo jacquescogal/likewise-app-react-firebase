{
 "cells": [
  {
   "cell_type": "code",
   "execution_count": 1,
   "metadata": {
    "papermill": {
     "duration": 5.677042,
     "end_time": "2021-03-27T10:27:41.122471",
     "exception": false,
     "start_time": "2021-03-27T10:27:35.445429",
     "status": "completed"
    },
    "tags": []
   },
   "outputs": [],
   "source": [
    "import numpy as np\n",
    "import tensorflow as tf\n",
    "from tensorflow import keras\n",
    "import string, os \n",
    "import re\n",
    "from tqdm import tqdm\n",
    "import pandas as pd\n",
    "import matplotlib.pyplot as plt\n",
    "import pickle"
   ]
  },
  {
   "cell_type": "code",
   "execution_count": 2,
   "metadata": {
    "papermill": {
     "duration": 0.039265,
     "end_time": "2021-03-27T10:27:41.182809",
     "exception": false,
     "start_time": "2021-03-27T10:27:41.143544",
     "status": "completed"
    },
    "tags": []
   },
   "outputs": [
    {
     "name": "stdout",
     "output_type": "stream",
     "text": [
      "Number of replicas: 1\n",
      "2.10.0\n"
     ]
    }
   ],
   "source": [
    "try:\n",
    "    tpu = tf.distribute.cluster_resolver.TPUClusterResolver()\n",
    "    print('Device:', tpu.master())\n",
    "    tf.config.experimental_connect_to_cluster(tpu)\n",
    "    tf.tpu.experimental.initialize_tpu_system(tpu)\n",
    "    strategy = tf.distribute.experimental.TPUStrategy(tpu)\n",
    "except:\n",
    "    strategy = tf.distribute.get_strategy()\n",
    "print('Number of replicas:', strategy.num_replicas_in_sync)\n",
    "\n",
    "AUTOTUNE = tf.data.experimental.AUTOTUNE\n",
    "    \n",
    "print(tf.__version__)"
   ]
  },
  {
   "cell_type": "code",
   "execution_count": 3,
   "metadata": {
    "papermill": {
     "duration": 0.030066,
     "end_time": "2021-03-27T10:27:41.233999",
     "exception": false,
     "start_time": "2021-03-27T10:27:41.203933",
     "status": "completed"
    },
    "tags": []
   },
   "outputs": [],
   "source": [
    "batch_size = 64  # Batch size for training.\n",
    "epochs = 200  # Number of epochs to train for.\n",
    "latent_dim = 512  # Latent dimensionality of the encoding space.\n",
    "num_samples = 50000"
   ]
  },
  {
   "cell_type": "code",
   "execution_count": 4,
   "metadata": {
    "papermill": {
     "duration": 0.826325,
     "end_time": "2021-03-27T10:27:42.080285",
     "exception": false,
     "start_time": "2021-03-27T10:27:41.253960",
     "status": "completed"
    },
    "tags": []
   },
   "outputs": [
    {
     "data": {
      "text/html": [
       "<div>\n",
       "<style scoped>\n",
       "    .dataframe tbody tr th:only-of-type {\n",
       "        vertical-align: middle;\n",
       "    }\n",
       "\n",
       "    .dataframe tbody tr th {\n",
       "        vertical-align: top;\n",
       "    }\n",
       "\n",
       "    .dataframe thead th {\n",
       "        text-align: right;\n",
       "    }\n",
       "</style>\n",
       "<table border=\"1\" class=\"dataframe\">\n",
       "  <thead>\n",
       "    <tr style=\"text-align: right;\">\n",
       "      <th></th>\n",
       "      <th>conversation_id</th>\n",
       "      <th>message</th>\n",
       "      <th>sentiment</th>\n",
       "    </tr>\n",
       "  </thead>\n",
       "  <tbody>\n",
       "    <tr>\n",
       "      <th>0</th>\n",
       "      <td>1</td>\n",
       "      <td>Are you a fan of Google or Microsoft?</td>\n",
       "      <td>Curious to dive deeper</td>\n",
       "    </tr>\n",
       "    <tr>\n",
       "      <th>1</th>\n",
       "      <td>1</td>\n",
       "      <td>Both are excellent technology they are helpfu...</td>\n",
       "      <td>Curious to dive deeper</td>\n",
       "    </tr>\n",
       "    <tr>\n",
       "      <th>2</th>\n",
       "      <td>1</td>\n",
       "      <td>I'm not  a huge fan of Google, but I use it a...</td>\n",
       "      <td>Curious to dive deeper</td>\n",
       "    </tr>\n",
       "    <tr>\n",
       "      <th>3</th>\n",
       "      <td>1</td>\n",
       "      <td>Google provides online related services and p...</td>\n",
       "      <td>Curious to dive deeper</td>\n",
       "    </tr>\n",
       "    <tr>\n",
       "      <th>4</th>\n",
       "      <td>1</td>\n",
       "      <td>Yeah, their services are good. I'm just not a...</td>\n",
       "      <td>Curious to dive deeper</td>\n",
       "    </tr>\n",
       "  </tbody>\n",
       "</table>\n",
       "</div>"
      ],
      "text/plain": [
       "   conversation_id                                            message  \\\n",
       "0                1              Are you a fan of Google or Microsoft?   \n",
       "1                1   Both are excellent technology they are helpfu...   \n",
       "2                1   I'm not  a huge fan of Google, but I use it a...   \n",
       "3                1   Google provides online related services and p...   \n",
       "4                1   Yeah, their services are good. I'm just not a...   \n",
       "\n",
       "                 sentiment  \n",
       "0   Curious to dive deeper  \n",
       "1   Curious to dive deeper  \n",
       "2   Curious to dive deeper  \n",
       "3   Curious to dive deeper  \n",
       "4   Curious to dive deeper  "
      ]
     },
     "execution_count": 4,
     "metadata": {},
     "output_type": "execute_result"
    }
   ],
   "source": [
    "# reading dataset\n",
    "df = pd.read_csv('topical_chat.csv')\n",
    "df.head()"
   ]
  },
  {
   "cell_type": "code",
   "execution_count": 5,
   "metadata": {
    "papermill": {
     "duration": 0.032472,
     "end_time": "2021-03-27T10:27:42.133454",
     "exception": false,
     "start_time": "2021-03-27T10:27:42.100982",
     "status": "completed"
    },
    "tags": []
   },
   "outputs": [],
   "source": [
    "# basic preprocessing\n",
    "def process(text):\n",
    "    text = text.lower().replace('\\n', ' ').replace('-', ' ').replace(':', ' ').replace(',', '') \\\n",
    "          .replace('\"', ' ').replace(\".\", \" \").replace(\"!\", \" \").replace(\"?\", \" \").replace(\";\", \" \").replace(\":\", \" \")\n",
    "\n",
    "    text = \"\".join(v for v in text if v not in string.punctuation).lower()\n",
    "    #text = text.encode(\"utf8\").decode(\"ascii\",'ignore')\n",
    "\n",
    "    text = \" \".join(text.split())\n",
    "    #text+=\"<eos>\"\n",
    "    return text\n"
   ]
  },
  {
   "cell_type": "code",
   "execution_count": 6,
   "metadata": {
    "papermill": {
     "duration": 3.951903,
     "end_time": "2021-03-27T10:27:46.107320",
     "exception": false,
     "start_time": "2021-03-27T10:27:42.155417",
     "status": "completed"
    },
    "tags": []
   },
   "outputs": [],
   "source": [
    "df.message = df.message.apply(process)"
   ]
  },
  {
   "cell_type": "code",
   "execution_count": 7,
   "metadata": {
    "papermill": {
     "duration": 0.036619,
     "end_time": "2021-03-27T10:27:46.165567",
     "exception": false,
     "start_time": "2021-03-27T10:27:46.128948",
     "status": "completed"
    },
    "tags": []
   },
   "outputs": [
    {
     "data": {
      "text/html": [
       "<div>\n",
       "<style scoped>\n",
       "    .dataframe tbody tr th:only-of-type {\n",
       "        vertical-align: middle;\n",
       "    }\n",
       "\n",
       "    .dataframe tbody tr th {\n",
       "        vertical-align: top;\n",
       "    }\n",
       "\n",
       "    .dataframe thead th {\n",
       "        text-align: right;\n",
       "    }\n",
       "</style>\n",
       "<table border=\"1\" class=\"dataframe\">\n",
       "  <thead>\n",
       "    <tr style=\"text-align: right;\">\n",
       "      <th></th>\n",
       "      <th>conversation_id</th>\n",
       "      <th>message</th>\n",
       "      <th>sentiment</th>\n",
       "    </tr>\n",
       "  </thead>\n",
       "  <tbody>\n",
       "    <tr>\n",
       "      <th>0</th>\n",
       "      <td>1</td>\n",
       "      <td>are you a fan of google or microsoft</td>\n",
       "      <td>Curious to dive deeper</td>\n",
       "    </tr>\n",
       "    <tr>\n",
       "      <th>1</th>\n",
       "      <td>1</td>\n",
       "      <td>both are excellent technology they are helpful...</td>\n",
       "      <td>Curious to dive deeper</td>\n",
       "    </tr>\n",
       "    <tr>\n",
       "      <th>2</th>\n",
       "      <td>1</td>\n",
       "      <td>im not a huge fan of google but i use it a lot...</td>\n",
       "      <td>Curious to dive deeper</td>\n",
       "    </tr>\n",
       "    <tr>\n",
       "      <th>3</th>\n",
       "      <td>1</td>\n",
       "      <td>google provides online related services and pr...</td>\n",
       "      <td>Curious to dive deeper</td>\n",
       "    </tr>\n",
       "    <tr>\n",
       "      <th>4</th>\n",
       "      <td>1</td>\n",
       "      <td>yeah their services are good im just not a fan...</td>\n",
       "      <td>Curious to dive deeper</td>\n",
       "    </tr>\n",
       "  </tbody>\n",
       "</table>\n",
       "</div>"
      ],
      "text/plain": [
       "   conversation_id                                            message  \\\n",
       "0                1               are you a fan of google or microsoft   \n",
       "1                1  both are excellent technology they are helpful...   \n",
       "2                1  im not a huge fan of google but i use it a lot...   \n",
       "3                1  google provides online related services and pr...   \n",
       "4                1  yeah their services are good im just not a fan...   \n",
       "\n",
       "                 sentiment  \n",
       "0   Curious to dive deeper  \n",
       "1   Curious to dive deeper  \n",
       "2   Curious to dive deeper  \n",
       "3   Curious to dive deeper  \n",
       "4   Curious to dive deeper  "
      ]
     },
     "execution_count": 7,
     "metadata": {},
     "output_type": "execute_result"
    }
   ],
   "source": [
    "df.head()"
   ]
  },
  {
   "cell_type": "code",
   "execution_count": 8,
   "metadata": {
    "papermill": {
     "duration": 83.988346,
     "end_time": "2021-03-27T10:29:10.174583",
     "exception": false,
     "start_time": "2021-03-27T10:27:46.186237",
     "status": "completed"
    },
    "tags": []
   },
   "outputs": [
    {
     "name": "stderr",
     "output_type": "stream",
     "text": [
      "100%|████████████████████████████████████████████████████████████████████████| 188378/188378 [02:40<00:00, 1174.57it/s]\n"
     ]
    }
   ],
   "source": [
    "# Vectorize the data.\n",
    "input_texts = []\n",
    "target_texts = []\n",
    "input_words_set = set()\n",
    "target_words_set = set()\n",
    "\n",
    "for conversation_index in tqdm(range(df.shape[0])):\n",
    "    \n",
    "    if conversation_index == 0:\n",
    "        continue\n",
    "        \n",
    "    input_text = df.iloc[conversation_index - 1]\n",
    "    target_text = df.iloc[conversation_index]\n",
    "    \n",
    "    if input_text.conversation_id == target_text.conversation_id:\n",
    "        \n",
    "        input_text = input_text.message\n",
    "        target_text = target_text.message\n",
    "        \n",
    "        if len(input_text.split()) > 2 and \\\n",
    "            len(target_text.split()) > 0 and \\\n",
    "            len(input_text.split()) < 30 and \\\n",
    "            len(target_text.split()) < 10 and \\\n",
    "            input_text and \\\n",
    "            target_text:\n",
    "            \n",
    "            target_text = \"bos \" + target_text + \" eos\"\n",
    "                \n",
    "            input_texts.append(input_text)\n",
    "            target_texts.append(target_text)\n",
    "            \n",
    "            for word in input_text.split():\n",
    "                if word not in input_words_set:\n",
    "                    input_words_set.add(word)\n",
    "            for word in target_text.split():\n",
    "                if word not in target_words_set:\n",
    "                    target_words_set.add(word)"
   ]
  },
  {
   "cell_type": "code",
   "execution_count": 9,
   "metadata": {
    "papermill": {
     "duration": 1.185284,
     "end_time": "2021-03-27T10:29:11.650408",
     "exception": false,
     "start_time": "2021-03-27T10:29:10.465124",
     "status": "completed"
    },
    "tags": []
   },
   "outputs": [
    {
     "name": "stdout",
     "output_type": "stream",
     "text": [
      "Number of samples: 20190\n",
      "Number of unique input tokens: 12272\n",
      "Number of unique output tokens: 7485\n",
      "Max sequence length for inputs: 29\n",
      "Max sequence length for outputs: 11\n"
     ]
    }
   ],
   "source": [
    "input_words = sorted(list(input_words_set))\n",
    "target_words = sorted(list(target_words_set))\n",
    "num_encoder_tokens = len(input_words)\n",
    "num_decoder_tokens = len(target_words)\n",
    "max_encoder_seq_length = max([len(txt.split()) for txt in input_texts])\n",
    "max_decoder_seq_length = max([len(txt.split()) for txt in target_texts])\n",
    "\n",
    "print(\"Number of samples:\", len(input_texts))\n",
    "print(\"Number of unique input tokens:\", num_encoder_tokens)\n",
    "print(\"Number of unique output tokens:\", num_decoder_tokens)\n",
    "print(\"Max sequence length for inputs:\", max_encoder_seq_length)\n",
    "print(\"Max sequence length for outputs:\", max_decoder_seq_length)\n",
    "\n",
    "input_token_index = dict([(word, i) for i, word in enumerate(input_words)])\n",
    "target_token_index = dict([(word, i) for i, word in enumerate(target_words)])\n",
    "\n",
    "#saving\n",
    "with open('input_token_index.pickle', 'wb') as handle:\n",
    "    pickle.dump(input_token_index, handle, protocol=pickle.HIGHEST_PROTOCOL)\n",
    "    \n",
    "#saving\n",
    "with open('target_token_index.pickle', 'wb') as handle:\n",
    "    pickle.dump(target_token_index, handle, protocol=pickle.HIGHEST_PROTOCOL)\n",
    "\n",
    "\n",
    "encoder_input_data = np.zeros(\n",
    "    (len(input_texts), max_encoder_seq_length), dtype=\"float32\"\n",
    ")\n",
    "decoder_input_data = np.zeros(\n",
    "    (len(input_texts), max_decoder_seq_length), dtype=\"float32\"\n",
    ")\n",
    "decoder_target_data = np.zeros(\n",
    "    (len(input_texts), max_decoder_seq_length, num_decoder_tokens), dtype=\"float32\"\n",
    ")\n",
    "\n",
    "for i, (input_text, target_text) in enumerate(zip(input_texts, target_texts)):\n",
    "    \n",
    "    for t, word in enumerate(input_text.split()):\n",
    "        encoder_input_data[i, t] = input_token_index[word]\n",
    "    \n",
    "    for t, word in enumerate(target_text.split()):\n",
    "        # decoder_target_data is ahead of decoder_input_data by one timestep\n",
    "        decoder_input_data[i, t] = target_token_index[word]\n",
    "        if t > 0:\n",
    "            # decoder_target_data will be ahead by one timestep\n",
    "            # and will not include the start character.\n",
    "            decoder_target_data[i, t - 1, target_token_index[word]] = 1.0"
   ]
  },
  {
   "cell_type": "code",
   "execution_count": 10,
   "metadata": {
    "papermill": {
     "duration": 4.739496,
     "end_time": "2021-03-27T10:29:16.676042",
     "exception": false,
     "start_time": "2021-03-27T10:29:11.936546",
     "status": "completed"
    },
    "tags": []
   },
   "outputs": [
    {
     "name": "stdout",
     "output_type": "stream",
     "text": [
      "Model: \"model\"\n",
      "__________________________________________________________________________________________________\n",
      " Layer (type)                   Output Shape         Param #     Connected to                     \n",
      "==================================================================================================\n",
      " input_1 (InputLayer)           [(None, None)]       0           []                               \n",
      "                                                                                                  \n",
      " input_2 (InputLayer)           [(None, None)]       0           []                               \n",
      "                                                                                                  \n",
      " embedding (Embedding)          (None, None, 100)    1227200     ['input_1[0][0]']                \n",
      "                                                                                                  \n",
      " embedding_1 (Embedding)        (None, None, 100)    748500      ['input_2[0][0]']                \n",
      "                                                                                                  \n",
      " lstm (LSTM)                    [(None, 512),        1255424     ['embedding[0][0]']              \n",
      "                                 (None, 512),                                                     \n",
      "                                 (None, 512)]                                                     \n",
      "                                                                                                  \n",
      " lstm_1 (LSTM)                  [(None, None, 512),  1255424     ['embedding_1[0][0]',            \n",
      "                                 (None, 512),                     'lstm[0][1]',                   \n",
      "                                 (None, 512)]                     'lstm[0][2]']                   \n",
      "                                                                                                  \n",
      " dense (Dense)                  (None, None, 7485)   3839805     ['lstm_1[0][0]']                 \n",
      "                                                                                                  \n",
      "==================================================================================================\n",
      "Total params: 8,326,353\n",
      "Trainable params: 8,326,353\n",
      "Non-trainable params: 0\n",
      "__________________________________________________________________________________________________\n"
     ]
    }
   ],
   "source": [
    "embedding_size = 100\n",
    "\n",
    "# seq2seq model - https://keras.io/examples/nlp/lstm_seq2seq/\n",
    "with strategy.scope():\n",
    "    # Define an input sequence and process it.\n",
    "    encoder_inputs = keras.Input(shape=(None,))\n",
    "    \n",
    "    encoder_embedding_output = keras.layers.Embedding(num_encoder_tokens, embedding_size)(encoder_inputs)\n",
    "                                               \n",
    "    encoder = keras.layers.LSTM(latent_dim, return_state=True)\n",
    "    encoder_outputs, state_h, state_c = encoder(encoder_embedding_output)\n",
    "\n",
    "    # We discard `encoder_outputs` and only keep the states.\n",
    "    encoder_states = [state_h, state_c]\n",
    "\n",
    "    # Set up the decoder, using `encoder_states` as initial state.\n",
    "    decoder_inputs = keras.Input(shape=(None,))\n",
    "    \n",
    "    decoder_embedding = keras.layers.Embedding(num_decoder_tokens, embedding_size)\n",
    "    decoder_embedding_output = decoder_embedding(decoder_inputs)\n",
    "    \n",
    "\n",
    "    # We set up our decoder to return full output sequences,\n",
    "    # and to return internal states as well. We don't use the\n",
    "    # return states in the training model, but we will use them in inference.\n",
    "    decoder_lstm = keras.layers.LSTM(latent_dim, return_sequences=True, return_state=True)\n",
    "    decoder_outputs, _, _ = decoder_lstm(decoder_embedding_output, initial_state=encoder_states)\n",
    "    decoder_dense = keras.layers.Dense(num_decoder_tokens, activation=\"softmax\")\n",
    "    decoder_outputs = decoder_dense(decoder_outputs)\n",
    "\n",
    "    # Define the model that will turn\n",
    "    # `encoder_input_data` & `decoder_input_data` into `decoder_target_data`\n",
    "    model = keras.Model([encoder_inputs, decoder_inputs], decoder_outputs)\n",
    "    model.compile(\n",
    "        optimizer=\"adam\", loss=\"categorical_crossentropy\", metrics=[\"accuracy\"]\n",
    "    )\n",
    "    model.summary()"
   ]
  },
  {
   "cell_type": "code",
   "execution_count": 11,
   "metadata": {
    "_kg_hide-output": true,
    "papermill": {
     "duration": 407.246187,
     "end_time": "2021-03-27T10:36:04.207870",
     "exception": false,
     "start_time": "2021-03-27T10:29:16.961683",
     "status": "completed"
    },
    "tags": []
   },
   "outputs": [
    {
     "name": "stdout",
     "output_type": "stream",
     "text": [
      "Epoch 1/20\n",
      "284/284 [==============================] - 240s 817ms/step - loss: 3.9531 - accuracy: 0.1128 - val_loss: 3.8866 - val_accuracy: 0.1160\n",
      "Epoch 2/20\n",
      "284/284 [==============================] - 226s 795ms/step - loss: 3.7194 - accuracy: 0.1253 - val_loss: 3.7856 - val_accuracy: 0.1310\n",
      "Epoch 3/20\n",
      "284/284 [==============================] - 226s 795ms/step - loss: 3.5949 - accuracy: 0.1364 - val_loss: 3.6734 - val_accuracy: 0.1449\n",
      "Epoch 4/20\n",
      "284/284 [==============================] - 224s 789ms/step - loss: 3.4604 - accuracy: 0.1543 - val_loss: 3.5760 - val_accuracy: 0.1582\n",
      "Epoch 5/20\n",
      "284/284 [==============================] - 226s 796ms/step - loss: 3.3397 - accuracy: 0.1686 - val_loss: 3.4917 - val_accuracy: 0.1694\n",
      "Epoch 6/20\n",
      "284/284 [==============================] - 227s 798ms/step - loss: 3.2224 - accuracy: 0.1795 - val_loss: 3.4060 - val_accuracy: 0.1816\n",
      "Epoch 7/20\n",
      "284/284 [==============================] - 227s 798ms/step - loss: 3.1146 - accuracy: 0.1878 - val_loss: 3.3315 - val_accuracy: 0.1853\n",
      "Epoch 8/20\n",
      "284/284 [==============================] - 222s 782ms/step - loss: 3.0147 - accuracy: 0.1946 - val_loss: 3.2846 - val_accuracy: 0.1930\n",
      "Epoch 9/20\n",
      "284/284 [==============================] - 227s 799ms/step - loss: 2.9189 - accuracy: 0.2028 - val_loss: 3.2405 - val_accuracy: 0.1978\n",
      "Epoch 10/20\n",
      "284/284 [==============================] - 200s 705ms/step - loss: 2.8246 - accuracy: 0.2118 - val_loss: 3.2065 - val_accuracy: 0.2021\n",
      "Epoch 11/20\n",
      "284/284 [==============================] - 222s 781ms/step - loss: 2.7360 - accuracy: 0.2192 - val_loss: 3.1898 - val_accuracy: 0.2040\n",
      "Epoch 12/20\n",
      "284/284 [==============================] - 240s 846ms/step - loss: 2.6519 - accuracy: 0.2255 - val_loss: 3.1688 - val_accuracy: 0.2082\n",
      "Epoch 13/20\n",
      "284/284 [==============================] - 220s 775ms/step - loss: 2.5693 - accuracy: 0.2324 - val_loss: 3.1818 - val_accuracy: 0.2116\n",
      "Epoch 14/20\n",
      "284/284 [==============================] - 191s 671ms/step - loss: 2.4919 - accuracy: 0.2389 - val_loss: 3.2239 - val_accuracy: 0.2144\n",
      "Epoch 15/20\n",
      "284/284 [==============================] - 190s 668ms/step - loss: 2.4186 - accuracy: 0.2444 - val_loss: 3.2636 - val_accuracy: 0.2178\n",
      "Epoch 16/20\n",
      "284/284 [==============================] - 185s 651ms/step - loss: 2.3478 - accuracy: 0.2518 - val_loss: 3.3030 - val_accuracy: 0.2188\n",
      "Epoch 17/20\n",
      "284/284 [==============================] - 185s 653ms/step - loss: 2.2801 - accuracy: 0.2577 - val_loss: 3.3722 - val_accuracy: 0.2188\n",
      "Epoch 18/20\n",
      "284/284 [==============================] - 198s 698ms/step - loss: 2.2180 - accuracy: 0.2647 - val_loss: 3.4558 - val_accuracy: 0.2166\n",
      "Epoch 19/20\n",
      "284/284 [==============================] - 194s 683ms/step - loss: 2.1570 - accuracy: 0.2710 - val_loss: 3.5352 - val_accuracy: 0.2212\n",
      "Epoch 20/20\n",
      "284/284 [==============================] - 203s 716ms/step - loss: 2.1004 - accuracy: 0.2776 - val_loss: 3.6157 - val_accuracy: 0.2190\n"
     ]
    }
   ],
   "source": [
    "history = model.fit(\n",
    "    [encoder_input_data, decoder_input_data],\n",
    "    decoder_target_data,\n",
    "    batch_size=batch_size,\n",
    "    epochs=20,\n",
    "    validation_split=0.1,\n",
    ")"
   ]
  },
  {
   "cell_type": "code",
   "execution_count": 31,
   "metadata": {},
   "outputs": [
    {
     "data": {
      "text/plain": [
       "<keras.callbacks.History at 0x1e30ec20c70>"
      ]
     },
     "execution_count": 31,
     "metadata": {},
     "output_type": "execute_result"
    }
   ],
   "source": [
    "model.history"
   ]
  },
  {
   "cell_type": "code",
   "execution_count": 12,
   "metadata": {
    "papermill": {
     "duration": 2.418151,
     "end_time": "2021-03-27T10:36:09.054857",
     "exception": false,
     "start_time": "2021-03-27T10:36:06.636706",
     "status": "completed"
    },
    "tags": []
   },
   "outputs": [
    {
     "data": {
      "image/png": "[encoded data removed]",
      "text/plain": [
       "<Figure size 432x288 with 1 Axes>"
      ]
     },
     "metadata": {
      "needs_background": "light"
     },
     "output_type": "display_data"
    }
   ],
   "source": [
    "# summarize history for loss\n",
    "plt.plot(history.history['loss'])\n",
    "plt.plot(history.history['val_loss'])\n",
    "plt.title('model loss')\n",
    "plt.ylabel('loss')\n",
    "plt.xlabel('epoch')\n",
    "plt.legend(['train', 'test'], loc='upper right')\n",
    "plt.show()"
   ]
  },
  {
   "cell_type": "code",
   "execution_count": 13,
   "metadata": {
    "papermill": {
     "duration": 2.352986,
     "end_time": "2021-03-27T10:36:13.528407",
     "exception": false,
     "start_time": "2021-03-27T10:36:11.175421",
     "status": "completed"
    },
    "tags": []
   },
   "outputs": [],
   "source": [
    "# Save model\n",
    "model.save(\"s2s.hdf5\")"
   ]
  },
  {
   "cell_type": "code",
   "execution_count": 14,
   "metadata": {
    "papermill": {
     "duration": 2.82737,
     "end_time": "2021-03-27T10:36:18.494887",
     "exception": false,
     "start_time": "2021-03-27T10:36:15.667517",
     "status": "completed"
    },
    "tags": []
   },
   "outputs": [
    {
     "name": "stdout",
     "output_type": "stream",
     "text": [
      "Model: \"model_1\"\n",
      "_________________________________________________________________\n",
      " Layer (type)                Output Shape              Param #   \n",
      "=================================================================\n",
      " input_1 (InputLayer)        [(None, None)]            0         \n",
      "                                                                 \n",
      " embedding (Embedding)       (None, None, 100)         1227200   \n",
      "                                                                 \n",
      " lstm (LSTM)                 [(None, 512),             1255424   \n",
      "                              (None, 512),                       \n",
      "                              (None, 512)]                       \n",
      "                                                                 \n",
      "=================================================================\n",
      "Total params: 2,482,624\n",
      "Trainable params: 2,482,624\n",
      "Non-trainable params: 0\n",
      "_________________________________________________________________\n"
     ]
    }
   ],
   "source": [
    "# define the encoder model \n",
    "encoder_model = keras.Model(encoder_inputs, encoder_states)\n",
    "encoder_model.summary()\n",
    "\n",
    "decoder_state_input_h = keras.Input(shape=(None,))\n",
    "decoder_state_input_c = keras.Input(shape=(None,))\n",
    "decoder_states_inputs = [decoder_state_input_h, decoder_state_input_c]\n",
    "\n",
    "decoder_embedding_output = decoder_embedding(decoder_inputs)\n",
    "\n",
    "decoder_outputs2, state_h2, state_c2 = decoder_lstm(decoder_embedding_output, initial_state=decoder_states_inputs)\n",
    "decoder_states2 = [state_h2, state_c2]\n",
    "decoder_outputs2 = decoder_dense(decoder_outputs2)\n",
    "decoder_model = keras.Model(\n",
    "    [decoder_inputs] + decoder_states_inputs,\n",
    "    [decoder_outputs2] + decoder_states2)\n",
    "# Reverse-lookup token index to decode sequences back \n",
    "reverse_input_char_index = dict(\n",
    "    (i, char) for char, i in input_token_index.items())\n",
    "reverse_target_char_index = dict(\n",
    "    (i, char) for char, i in target_token_index.items())"
   ]
  },
  {
   "cell_type": "code",
   "execution_count": 15,
   "metadata": {
    "papermill": {
     "duration": 2.185785,
     "end_time": "2021-03-27T10:36:22.874747",
     "exception": false,
     "start_time": "2021-03-27T10:36:20.688962",
     "status": "completed"
    },
    "tags": []
   },
   "outputs": [
    {
     "name": "stdout",
     "output_type": "stream",
     "text": [
      "WARNING:tensorflow:Compiled the loaded model, but the compiled metrics have yet to be built. `model.compile_metrics` will be empty until you train or evaluate the model.\n",
      "WARNING:tensorflow:Compiled the loaded model, but the compiled metrics have yet to be built. `model.compile_metrics` will be empty until you train or evaluate the model.\n"
     ]
    }
   ],
   "source": [
    "encoder_model.save(\"encoder_model.hdf5\")\n",
    "decoder_model.save(\"decoder_model.hdf5\")"
   ]
  },
  {
   "cell_type": "code",
   "execution_count": 32,
   "metadata": {},
   "outputs": [
    {
     "data": {
      "text/plain": [
       "29"
      ]
     },
     "execution_count": 32,
     "metadata": {},
     "output_type": "execute_result"
    }
   ],
   "source": [
    "max_encoder_seq_length"
   ]
  },
  {
   "cell_type": "code",
   "execution_count": 16,
   "metadata": {
    "papermill": {
     "duration": 2.167144,
     "end_time": "2021-03-27T10:36:27.149927",
     "exception": false,
     "start_time": "2021-03-27T10:36:24.982783",
     "status": "completed"
    },
    "tags": []
   },
   "outputs": [],
   "source": [
    "def respond(text):\n",
    "    input_seq = np.zeros(\n",
    "        (1, max_encoder_seq_length), dtype=\"float32\"\n",
    "    )\n",
    "    \n",
    "    for t, word in enumerate(text.split()):\n",
    "        input_seq[0, t] = input_token_index[word]\n",
    "        \n",
    "    # Encode the input as state vectors.\n",
    "    states_value = encoder_model.predict(input_seq)\n",
    "    # Generate empty target sequence of length 1.\n",
    "    target_seq = np.zeros((1,1))\n",
    "    # Populate the first character of target sequence with the start character.\n",
    "    target_seq[0, 0] = target_token_index['bos']\n",
    "    # Sampling loop for a batch of sequences\n",
    "    # (to simplify, here we assume a batch of size 1).\n",
    "    stop_condition = False\n",
    "    decoded_sentence = ''\n",
    "    while not stop_condition:\n",
    "        output_tokens, h, c = decoder_model.predict([target_seq] + states_value)\n",
    "\n",
    "        # Sample a token\n",
    "        sampled_token_index = np.argmax(output_tokens[0, -1, :])\n",
    "        sampled_char = reverse_target_char_index[sampled_token_index]\n",
    "        \n",
    "        # Exit condition: either hit max length\n",
    "        # or find stop character.\n",
    "        if (sampled_char == 'eos' or\n",
    "           len(decoded_sentence) > 50):\n",
    "            stop_condition = True\n",
    "        else:\n",
    "            decoded_sentence += ' ' + sampled_char\n",
    "            \n",
    "        # Update the target sequence (of length 1).\n",
    "        target_seq = np.zeros((1,1))\n",
    "        target_seq[0, 0] = sampled_token_index\n",
    "        # Update states\n",
    "        states_value = [h, c]\n",
    "    return decoded_sentence"
   ]
  },
  {
   "cell_type": "code",
   "execution_count": 17,
   "metadata": {
    "papermill": {
     "duration": 3.208566,
     "end_time": "2021-03-27T10:36:32.849696",
     "exception": false,
     "start_time": "2021-03-27T10:36:29.641130",
     "status": "completed"
    },
    "tags": []
   },
   "outputs": [
    {
     "name": "stdout",
     "output_type": "stream",
     "text": [
      "1/1 [==============================] - 2s 2s/step\n",
      "1/1 [==============================] - 1s 1s/step\n",
      "1/1 [==============================] - 0s 69ms/step\n",
      "1/1 [==============================] - 0s 61ms/step\n",
      "1/1 [==============================] - 0s 77ms/step\n",
      "1/1 [==============================] - 0s 65ms/step\n",
      "1/1 [==============================] - 0s 71ms/step\n",
      "1/1 [==============================] - 0s 53ms/step\n",
      "1/1 [==============================] - 0s 68ms/step\n"
     ]
    },
    {
     "data": {
      "text/plain": [
       "' i am doing well how are you'"
      ]
     },
     "execution_count": 17,
     "metadata": {},
     "output_type": "execute_result"
    }
   ],
   "source": [
    "respond(\"how are you\")"
   ]
  },
  {
   "cell_type": "code",
   "execution_count": 18,
   "metadata": {
    "papermill": {
     "duration": 2.604019,
     "end_time": "2021-03-27T10:36:38.207095",
     "exception": false,
     "start_time": "2021-03-27T10:36:35.603076",
     "status": "completed"
    },
    "tags": []
   },
   "outputs": [
    {
     "name": "stdout",
     "output_type": "stream",
     "text": [
      "1/1 [==============================] - 0s 86ms/step\n",
      "1/1 [==============================] - 0s 75ms/step\n",
      "1/1 [==============================] - 0s 77ms/step\n",
      "1/1 [==============================] - 0s 80ms/step\n",
      "1/1 [==============================] - 0s 53ms/step\n",
      "1/1 [==============================] - 0s 77ms/step\n",
      "1/1 [==============================] - 0s 80ms/step\n",
      "1/1 [==============================] - 0s 70ms/step\n",
      "1/1 [==============================] - 0s 69ms/step\n"
     ]
    },
    {
     "data": {
      "text/plain": [
       "' i have not heard of the movie'"
      ]
     },
     "execution_count": 18,
     "metadata": {},
     "output_type": "execute_result"
    }
   ],
   "source": [
    "respond(\"good morning\")"
   ]
  },
  {
   "cell_type": "code",
   "execution_count": 19,
   "metadata": {
    "papermill": {
     "duration": 2.259753,
     "end_time": "2021-03-27T10:36:42.948406",
     "exception": false,
     "start_time": "2021-03-27T10:36:40.688653",
     "status": "completed"
    },
    "tags": []
   },
   "outputs": [
    {
     "name": "stdout",
     "output_type": "stream",
     "text": [
      "1/1 [==============================] - 0s 69ms/step\n",
      "1/1 [==============================] - 0s 61ms/step\n",
      "1/1 [==============================] - 0s 73ms/step\n",
      "1/1 [==============================] - 0s 72ms/step\n"
     ]
    },
    {
     "data": {
      "text/plain": [
       "' you too'"
      ]
     },
     "execution_count": 19,
     "metadata": {},
     "output_type": "execute_result"
    }
   ],
   "source": [
    "respond(\"good bye\")"
   ]
  },
  {
   "cell_type": "code",
   "execution_count": 20,
   "metadata": {
    "papermill": {
     "duration": 10.895664,
     "end_time": "2021-03-27T10:36:55.985527",
     "exception": false,
     "start_time": "2021-03-27T10:36:45.089863",
     "status": "completed"
    },
    "tags": []
   },
   "outputs": [
    {
     "name": "stdout",
     "output_type": "stream",
     "text": [
      "1/1 [==============================] - 0s 80ms/step\n",
      "1/1 [==============================] - 0s 72ms/step\n",
      "1/1 [==============================] - 0s 70ms/step\n",
      "1/1 [==============================] - 0s 75ms/step\n",
      "1/1 [==============================] - 0s 75ms/step\n",
      "1/1 [==============================] - 0s 65ms/step\n",
      "1/1 [==============================] - 0s 74ms/step\n",
      "1/1 [==============================] - 0s 65ms/step\n",
      "1/1 [==============================] - 0s 72ms/step\n",
      "1/1 [==============================] - 0s 71ms/step\n",
      "-\n",
      "Input sentence: yes google is the biggest search engine and google service figure out top 100 website including youtube and blogger\n",
      "Decoded sentence:  that is true do you like to travel\n",
      "1/1 [==============================] - 0s 74ms/step\n",
      "1/1 [==============================] - 0s 72ms/step\n",
      "1/1 [==============================] - 0s 74ms/step\n",
      "1/1 [==============================] - 0s 72ms/step\n",
      "1/1 [==============================] - 0s 67ms/step\n",
      "1/1 [==============================] - 0s 73ms/step\n",
      "1/1 [==============================] - 0s 57ms/step\n",
      "1/1 [==============================] - 0s 72ms/step\n",
      "1/1 [==============================] - 0s 74ms/step\n",
      "1/1 [==============================] - 0s 65ms/step\n",
      "1/1 [==============================] - 0s 64ms/step\n",
      "-\n",
      "Input sentence: yes he even won a hardcore cha cha championship in 1958\n",
      "Decoded sentence:  yeah do you know who kareem abdul jabbar is\n",
      "1/1 [==============================] - 0s 78ms/step\n",
      "1/1 [==============================] - 0s 67ms/step\n",
      "1/1 [==============================] - 0s 68ms/step\n",
      "1/1 [==============================] - 0s 72ms/step\n",
      "1/1 [==============================] - 0s 68ms/step\n",
      "1/1 [==============================] - 0s 59ms/step\n",
      "1/1 [==============================] - 0s 53ms/step\n",
      "1/1 [==============================] - 0s 55ms/step\n",
      "1/1 [==============================] - 0s 73ms/step\n",
      "1/1 [==============================] - 0s 68ms/step\n",
      "-\n",
      "Input sentence: true did you know jackson had a patent on a dancing device\n",
      "Decoded sentence:  yes and he has already released 3 albums\n",
      "1/1 [==============================] - 0s 68ms/step\n",
      "1/1 [==============================] - 0s 85ms/step\n",
      "1/1 [==============================] - 0s 67ms/step\n",
      "1/1 [==============================] - 0s 77ms/step\n",
      "1/1 [==============================] - 0s 79ms/step\n",
      "1/1 [==============================] - 0s 78ms/step\n",
      "1/1 [==============================] - 0s 52ms/step\n",
      "-\n",
      "Input sentence: yes it helped him smooth out his dance moves\n",
      "Decoded sentence:  do you like the internet\n",
      "1/1 [==============================] - 0s 79ms/step\n",
      "1/1 [==============================] - 0s 66ms/step\n",
      "1/1 [==============================] - 0s 76ms/step\n",
      "1/1 [==============================] - 0s 52ms/step\n",
      "1/1 [==============================] - 0s 71ms/step\n",
      "1/1 [==============================] - 0s 80ms/step\n",
      "1/1 [==============================] - 0s 54ms/step\n",
      "1/1 [==============================] - 0s 75ms/step\n",
      "1/1 [==============================] - 0s 83ms/step\n",
      "-\n",
      "Input sentence: i wonder if they met how that would go from there\n",
      "Decoded sentence:  yeah it was nice chatting with you\n",
      "1/1 [==============================] - 0s 81ms/step\n",
      "1/1 [==============================] - 0s 61ms/step\n",
      "1/1 [==============================] - 0s 62ms/step\n",
      "1/1 [==============================] - 0s 63ms/step\n",
      "1/1 [==============================] - 0s 70ms/step\n",
      "1/1 [==============================] - 0s 68ms/step\n",
      "1/1 [==============================] - 0s 60ms/step\n",
      "1/1 [==============================] - 0s 73ms/step\n",
      "1/1 [==============================] - 0s 60ms/step\n",
      "-\n",
      "Input sentence: oh yeah i didnt know that either i also want to go to google plex to see the goats who mow their lawn by eating it\n",
      "Decoded sentence:  thats true i wonder why it was\n",
      "1/1 [==============================] - 0s 71ms/step\n",
      "1/1 [==============================] - 0s 71ms/step\n",
      "1/1 [==============================] - 0s 74ms/step\n",
      "1/1 [==============================] - 0s 65ms/step\n",
      "1/1 [==============================] - 0s 71ms/step\n",
      "1/1 [==============================] - 0s 69ms/step\n",
      "1/1 [==============================] - 0s 61ms/step\n",
      "1/1 [==============================] - 0s 72ms/step\n",
      "1/1 [==============================] - 0s 84ms/step\n",
      "-\n",
      "Input sentence: hi do you like to dance\n",
      "Decoded sentence:  i do like to watch the simpsons\n",
      "1/1 [==============================] - 0s 78ms/step\n",
      "1/1 [==============================] - 0s 73ms/step\n",
      "1/1 [==============================] - 0s 63ms/step\n",
      "1/1 [==============================] - 0s 75ms/step\n",
      "1/1 [==============================] - 0s 79ms/step\n",
      "1/1 [==============================] - 0s 72ms/step\n",
      "1/1 [==============================] - 0s 70ms/step\n",
      "1/1 [==============================] - 0s 72ms/step\n",
      "1/1 [==============================] - 0s 53ms/step\n",
      "1/1 [==============================] - 0s 54ms/step\n",
      "-\n",
      "Input sentence: dancing is a lot of fun did you know that bruce lee was a great dancer\n",
      "Decoded sentence:  i did not know that is pretty cool\n",
      "1/1 [==============================] - 0s 75ms/step\n",
      "1/1 [==============================] - 0s 73ms/step\n",
      "1/1 [==============================] - 0s 59ms/step\n",
      "1/1 [==============================] - 0s 67ms/step\n",
      "1/1 [==============================] - 0s 70ms/step\n",
      "1/1 [==============================] - 0s 63ms/step\n",
      "1/1 [==============================] - 0s 73ms/step\n",
      "1/1 [==============================] - 0s 66ms/step\n",
      "1/1 [==============================] - 0s 68ms/step\n",
      "1/1 [==============================] - 0s 71ms/step\n",
      "-\n",
      "Input sentence: he was indeed his music is even in the library of congress\n",
      "Decoded sentence:  i wonder how many listeners he was it\n",
      "1/1 [==============================] - 0s 79ms/step\n",
      "1/1 [==============================] - 0s 74ms/step\n",
      "1/1 [==============================] - 0s 71ms/step\n",
      "1/1 [==============================] - 0s 66ms/step\n",
      "1/1 [==============================] - 0s 72ms/step\n",
      "1/1 [==============================] - 0s 70ms/step\n",
      "1/1 [==============================] - 0s 62ms/step\n",
      "1/1 [==============================] - 0s 57ms/step\n",
      "1/1 [==============================] - 0s 59ms/step\n",
      "1/1 [==============================] - 0s 62ms/step\n",
      "1/1 [==============================] - 0s 67ms/step\n",
      "1/1 [==============================] - 0s 76ms/step\n",
      "-\n",
      "Input sentence: wow that is amazing coming from such a talented singer and dancer i couldnt even dance like that even if i dreamed of it\n",
      "Decoded sentence:  i wonder if they are kicking themselves to the same\n",
      "1/1 [==============================] - 0s 84ms/step\n",
      "1/1 [==============================] - 0s 44ms/step\n",
      "1/1 [==============================] - 0s 44ms/step\n",
      "1/1 [==============================] - 0s 55ms/step\n",
      "1/1 [==============================] - 0s 45ms/step\n",
      "1/1 [==============================] - 0s 54ms/step\n",
      "1/1 [==============================] - 0s 71ms/step\n",
      "1/1 [==============================] - 0s 55ms/step\n",
      "1/1 [==============================] - 0s 68ms/step\n",
      "1/1 [==============================] - 0s 67ms/step\n",
      "-\n",
      "Input sentence: i heard that some professional ballet dancer can go through four pairs of shoes in a week\n",
      "Decoded sentence:  that is true do you like to travel\n",
      "1/1 [==============================] - 0s 69ms/step\n",
      "1/1 [==============================] - 0s 64ms/step\n",
      "1/1 [==============================] - 0s 73ms/step\n",
      "1/1 [==============================] - 0s 71ms/step\n",
      "-\n",
      "Input sentence: ha ha it was so nice chatting with you as well have a nice day bye\n",
      "Decoded sentence:  you too\n",
      "1/1 [==============================] - 0s 80ms/step\n",
      "1/1 [==============================] - 0s 70ms/step\n",
      "1/1 [==============================] - 0s 71ms/step\n",
      "1/1 [==============================] - 0s 67ms/step\n",
      "1/1 [==============================] - 0s 61ms/step\n",
      "1/1 [==============================] - 0s 73ms/step\n",
      "1/1 [==============================] - 0s 75ms/step\n",
      "1/1 [==============================] - 0s 75ms/step\n",
      "1/1 [==============================] - 0s 73ms/step\n",
      "-\n",
      "Input sentence: yes he was in the nutcracker as the mouse king\n",
      "Decoded sentence:  yes and he was released president banana\n",
      "1/1 [==============================] - 0s 80ms/step\n",
      "1/1 [==============================] - 0s 69ms/step\n",
      "1/1 [==============================] - 0s 64ms/step\n",
      "1/1 [==============================] - 0s 61ms/step\n",
      "1/1 [==============================] - 0s 72ms/step\n",
      "1/1 [==============================] - 0s 75ms/step\n",
      "1/1 [==============================] - 0s 74ms/step\n",
      "1/1 [==============================] - 0s 73ms/step\n",
      "-\n",
      "Input sentence: i wonder if they had met what he would have written about her\n",
      "Decoded sentence:  yeah do you like to read\n",
      "1/1 [==============================] - 0s 76ms/step\n",
      "1/1 [==============================] - 0s 71ms/step\n",
      "1/1 [==============================] - 0s 74ms/step\n",
      "1/1 [==============================] - 0s 63ms/step\n",
      "1/1 [==============================] - 0s 71ms/step\n",
      "1/1 [==============================] - 0s 66ms/step\n",
      "1/1 [==============================] - 0s 64ms/step\n",
      "1/1 [==============================] - 0s 70ms/step\n",
      "-\n",
      "Input sentence: yeah good point he also invented some womens names\n",
      "Decoded sentence:  yes and they scheduled 2430 energetically\n",
      "1/1 [==============================] - 0s 78ms/step\n",
      "1/1 [==============================] - 0s 69ms/step\n",
      "1/1 [==============================] - 0s 76ms/step\n",
      "1/1 [==============================] - 0s 75ms/step\n",
      "1/1 [==============================] - 0s 75ms/step\n",
      "1/1 [==============================] - 0s 64ms/step\n",
      "1/1 [==============================] - 0s 64ms/step\n",
      "1/1 [==============================] - 0s 75ms/step\n",
      "1/1 [==============================] - 0s 67ms/step\n",
      "1/1 [==============================] - 0s 61ms/step\n",
      "-\n",
      "Input sentence: and before on google moon they used to use cheese for close ups\n",
      "Decoded sentence:  i wonder if they are kicking themselves to\n",
      "1/1 [==============================] - 0s 78ms/step\n",
      "1/1 [==============================] - 0s 70ms/step\n",
      "1/1 [==============================] - 0s 77ms/step\n",
      "1/1 [==============================] - 0s 75ms/step\n",
      "1/1 [==============================] - 0s 72ms/step\n",
      "1/1 [==============================] - 0s 69ms/step\n",
      "1/1 [==============================] - 0s 70ms/step\n",
      "1/1 [==============================] - 0s 73ms/step\n",
      "1/1 [==============================] - 0s 64ms/step\n",
      "-\n",
      "Input sentence: do you know how google maps calculates traffic\n",
      "Decoded sentence:  i love to travel how about you\n",
      "1/1 [==============================] - 0s 70ms/step\n",
      "1/1 [==============================] - 0s 74ms/step\n",
      "1/1 [==============================] - 0s 77ms/step\n",
      "1/1 [==============================] - 0s 78ms/step\n",
      "1/1 [==============================] - 0s 72ms/step\n",
      "1/1 [==============================] - 0s 65ms/step\n",
      "1/1 [==============================] - 0s 73ms/step\n",
      "1/1 [==============================] - 0s 72ms/step\n",
      "1/1 [==============================] - 0s 71ms/step\n",
      "-\n",
      "Input sentence: i am not sure how do they do this\n",
      "Decoded sentence:  i do like to watch the simpsons\n",
      "1/1 [==============================] - 0s 75ms/step\n",
      "1/1 [==============================] - 0s 67ms/step\n",
      "1/1 [==============================] - 0s 72ms/step\n",
      "1/1 [==============================] - 0s 63ms/step\n",
      "1/1 [==============================] - 0s 72ms/step\n",
      "1/1 [==============================] - 0s 66ms/step\n",
      "1/1 [==============================] - 0s 57ms/step\n",
      "1/1 [==============================] - 0s 74ms/step\n",
      "1/1 [==============================] - 0s 70ms/step\n",
      "1/1 [==============================] - 0s 61ms/step\n",
      "1/1 [==============================] - 0s 76ms/step\n",
      "1/1 [==============================] - 0s 58ms/step\n",
      "-\n",
      "Input sentence: but i like that they like to have fun too have you ever typed askew into google\n",
      "Decoded sentence:  i have not heard of the most of the movie\n",
      "1/1 [==============================] - 0s 74ms/step\n",
      "1/1 [==============================] - 0s 70ms/step\n",
      "1/1 [==============================] - 0s 70ms/step\n",
      "1/1 [==============================] - 0s 74ms/step\n",
      "1/1 [==============================] - 0s 56ms/step\n",
      "1/1 [==============================] - 0s 46ms/step\n",
      "1/1 [==============================] - 0s 51ms/step\n",
      "1/1 [==============================] - 0s 77ms/step\n",
      "1/1 [==============================] - 0s 72ms/step\n",
      "-\n",
      "Input sentence: do you like comic books\n",
      "Decoded sentence:  i do like to watch the simpsons\n"
     ]
    }
   ],
   "source": [
    "for seq_index in range(20):\n",
    "    # Take one sequence (part of the training set)\n",
    "    # for trying out decoding.\n",
    "    decoded_sentence = respond(input_texts[seq_index])\n",
    "    print(\"-\")\n",
    "    print(\"Input sentence:\", input_texts[seq_index])\n",
    "    print(\"Decoded sentence:\", decoded_sentence)"
   ]
  },
  {
   "cell_type": "code",
   "execution_count": 21,
   "metadata": {
    "papermill": {
     "duration": 2.141757,
     "end_time": "2021-03-27T10:37:00.330656",
     "exception": false,
     "start_time": "2021-03-27T10:36:58.188899",
     "status": "completed"
    },
    "tags": []
   },
   "outputs": [
    {
     "data": {
      "text/plain": [
       "2367"
      ]
     },
     "execution_count": 21,
     "metadata": {},
     "output_type": "execute_result"
    }
   ],
   "source": [
    "eos_token = target_token_index['eos']\n",
    "eos_token"
   ]
  },
  {
   "cell_type": "code",
   "execution_count": 22,
   "metadata": {
    "papermill": {
     "duration": 2.119635,
     "end_time": "2021-03-27T10:37:04.842590",
     "exception": false,
     "start_time": "2021-03-27T10:37:02.722955",
     "status": "completed"
    },
    "tags": []
   },
   "outputs": [],
   "source": [
    "from math import log\n",
    "def generate_beam_text(seed_text, next_words, beam_search_n, break_at_eos):\n",
    "    \n",
    "    distributions_scores_states = [[list(), 0.0, [None, None]]]\n",
    "    \n",
    "    decoder_states_value = None\n",
    "    \n",
    "    for _ in range(next_words):\n",
    "        \n",
    "        sequence_temp_candidates = list()\n",
    "        \n",
    "        for i in range(len(distributions_scores_states)): \n",
    "            \n",
    "            input_seq = np.zeros(\n",
    "                (1, max_encoder_seq_length), dtype=\"float32\"\n",
    "            )\n",
    "            \n",
    "            # Generate empty target sequence of length 1.\n",
    "            target_seq = np.zeros((1,1))\n",
    "            \n",
    "            seq, score, states_values = distributions_scores_states[i]\n",
    "            \n",
    "            if len(distributions_scores_states) == 1:\n",
    "                for t, word in enumerate(process(seed_text).split()):\n",
    "                    input_seq[0, t] = input_token_index[word]\n",
    "                \n",
    "                # Encode the input as state vectors.\n",
    "                decoder_states_value = encoder_model.predict(input_seq)\n",
    "                \n",
    "                # Populate the first character of target sequence with the start character.\n",
    "                target_seq[0, 0] = target_token_index['bos']\n",
    "                \n",
    "            else:\n",
    "                target_seq[0, 0] = seq[-1]\n",
    "                decoder_states_value = states_values\n",
    "                \n",
    "                candidate_sentence = \"\"\n",
    "                for token_index in seq:\n",
    "                    if token_index == eos_token:\n",
    "                        break\n",
    "                        \n",
    "                    word = reverse_target_char_index[token_index]\n",
    "                    candidate_sentence+=word + \" \"\n",
    "                \n",
    "                print(\"score :\", score, \" | \", candidate_sentence)\n",
    "            \n",
    "            \n",
    "            output_tokens_distribution, h, c = decoder_model.predict([target_seq] + decoder_states_value)\n",
    "            \n",
    "            # Update states\n",
    "            decoder_states_value = [h, c]\n",
    "\n",
    "            predicted_distribution = output_tokens_distribution[0][0]\n",
    "            \n",
    "            for j in range(len(predicted_distribution)):\n",
    "                if predicted_distribution[j] > 0:\n",
    "                    candidate = [seq + [j], score - log(predicted_distribution[j]), decoder_states_value]\n",
    "                    if break_at_eos and j == eos_token:\n",
    "                        continue\n",
    "                    else:\n",
    "                        sequence_temp_candidates.append(candidate)\n",
    "\n",
    "        \n",
    "        # 2. score and sort all candidates\n",
    "        ordered = sorted(sequence_temp_candidates, key=lambda tup:tup[1])\n",
    "        \n",
    "        distributions_scores_states = ordered[:beam_search_n]\n",
    "          \n",
    "        print(\"-----\")\n"
   ]
  },
  {
   "cell_type": "code",
   "execution_count": 23,
   "metadata": {
    "papermill": {
     "duration": 5.390994,
     "end_time": "2021-03-27T10:37:12.848152",
     "exception": false,
     "start_time": "2021-03-27T10:37:07.457158",
     "status": "completed"
    },
    "tags": []
   },
   "outputs": [
    {
     "name": "stdout",
     "output_type": "stream",
     "text": [
      "1/1 [==============================] - 0s 47ms/step\n",
      "1/1 [==============================] - 0s 62ms/step\n",
      "-----\n",
      "score : 2.419793438682456  |  yeah \n",
      "1/1 [==============================] - 0s 44ms/step\n",
      "score : 2.641686695798698  |  i \n",
      "1/1 [==============================] - 0s 51ms/step\n",
      "score : 2.8160641795982198  |  do \n",
      "1/1 [==============================] - 0s 68ms/step\n",
      "score : 3.0313199794950303  |  it \n",
      "1/1 [==============================] - 0s 73ms/step\n",
      "score : 3.262345648333424  |  yes \n",
      "1/1 [==============================] - 0s 70ms/step\n",
      "-----\n",
      "score : 2.856077080381165  |  do you \n",
      "1/1 [==============================] - 0s 92ms/step\n",
      "score : 3.857663392329787  |  it was \n",
      "1/1 [==============================] - 0s 65ms/step\n",
      "score : 4.356695295395741  |  i wonder \n",
      "1/1 [==============================] - 0s 63ms/step\n",
      "score : 4.4037450017712825  |  it is \n",
      "1/1 [==============================] - 0s 51ms/step\n",
      "score : 4.437963596908078  |  i agree \n",
      "1/1 [==============================] - 0s 71ms/step\n",
      "-----\n",
      "score : 4.058384983842894  |  do you like \n",
      "1/1 [==============================] - 0s 77ms/step\n",
      "score : 4.819249258894838  |  do you have \n",
      "1/1 [==============================] - 0s 75ms/step\n",
      "score : 5.076054705148428  |  do you know \n",
      "1/1 [==============================] - 0s 60ms/step\n",
      "score : 5.3216794838542185  |  i wonder if \n",
      "1/1 [==============================] - 0s 67ms/step\n",
      "score : 5.529210195060541  |  do you use \n",
      "1/1 [==============================] - 0s 63ms/step\n",
      "-----\n",
      "score : 5.3327577667653365  |  do you have a \n",
      "1/1 [==============================] - 0s 80ms/step\n",
      "score : 6.378808781577483  |  do you have any \n",
      "1/1 [==============================] - 0s 78ms/step\n",
      "score : 6.424154062565182  |  i wonder if they \n",
      "1/1 [==============================] - 0s 64ms/step\n",
      "score : 6.436775036171841  |  do you like to \n",
      "1/1 [==============================] - 0s 64ms/step\n",
      "score : 6.614728978778458  |  do you use facebook \n",
      "1/1 [==============================] - 0s 91ms/step\n",
      "-----\n"
     ]
    }
   ],
   "source": [
    "generate_beam_text(\"i wonder if they met how that would go from there\", 5, 5, False)"
   ]
  },
  {
   "cell_type": "code",
   "execution_count": 24,
   "metadata": {
    "papermill": {
     "duration": 4.042042,
     "end_time": "2021-03-27T10:37:19.028001",
     "exception": false,
     "start_time": "2021-03-27T10:37:14.985959",
     "status": "completed"
    },
    "tags": []
   },
   "outputs": [
    {
     "name": "stdout",
     "output_type": "stream",
     "text": [
      "1/1 [==============================] - 0s 76ms/step\n",
      "1/1 [==============================] - 0s 69ms/step\n",
      "-----\n",
      "score : 0.6642091814824472  |  i \n",
      "1/1 [==============================] - 0s 67ms/step\n",
      "score : 1.8629854359974094  |  yes \n",
      "1/1 [==============================] - 0s 41ms/step\n",
      "score : 2.814706613507464  |  not \n",
      "1/1 [==============================] - 0s 58ms/step\n",
      "score : 3.211038454162079  |  sometimes \n",
      "1/1 [==============================] - 0s 40ms/step\n",
      "score : 3.4089753960044713  |  no \n",
      "1/1 [==============================] - 0s 57ms/step\n",
      "-----\n",
      "score : 1.5047906370839623  |  i do \n",
      "1/1 [==============================] - 0s 40ms/step\n",
      "score : 1.8489373037502599  |  i love \n",
      "1/1 [==============================] - 0s 46ms/step\n",
      "score : 2.230968940370022  |  yes i \n",
      "1/1 [==============================] - 0s 78ms/step\n",
      "score : 3.7556434167978  |  no i \n",
      "1/1 [==============================] - 0s 50ms/step\n",
      "score : 3.783599214318431  |  i like \n",
      "1/1 [==============================] - 0s 103ms/step\n",
      "-----\n",
      "score : 2.9423203334596524  |  i do like \n",
      "1/1 [==============================] - 0s 104ms/step\n",
      "score : 3.1835362071395608  |  yes i love \n",
      "1/1 [==============================] - 0s 73ms/step\n",
      "score : 3.329405278822552  |  i do do \n",
      "1/1 [==============================] - 0s 54ms/step\n",
      "score : 3.338687598452328  |  yes i do \n",
      "1/1 [==============================] - 0s 55ms/step\n",
      "score : 3.6817929156591944  |  i love to \n",
      "1/1 [==============================] - 0s 90ms/step\n",
      "-----\n"
     ]
    }
   ],
   "source": [
    "generate_beam_text(\"do you like comic books\", 4, 5, False)"
   ]
  },
  {
   "cell_type": "code",
   "execution_count": 25,
   "metadata": {
    "papermill": {
     "duration": 4.859103,
     "end_time": "2021-03-27T10:37:26.095156",
     "exception": false,
     "start_time": "2021-03-27T10:37:21.236053",
     "status": "completed"
    },
    "tags": []
   },
   "outputs": [
    {
     "name": "stdout",
     "output_type": "stream",
     "text": [
      "1/1 [==============================] - 0s 66ms/step\n",
      "1/1 [==============================] - 0s 87ms/step\n",
      "-----\n",
      "score : 2.213055907412059  |  thanks \n",
      "1/1 [==============================] - 0s 128ms/step\n",
      "score : 2.3703587775980983  |  have \n",
      "1/1 [==============================] - 0s 87ms/step\n",
      "score : 2.409970616060191  |  bye \n",
      "1/1 [==============================] - 0s 54ms/step\n",
      "score : 2.69881937030869  |  you \n",
      "1/1 [==============================] - 0s 89ms/step\n",
      "score : 2.8767827535965185  |  same \n",
      "1/1 [==============================] - 0s 110ms/step\n",
      "-----\n",
      "score : 2.4577104663522276  |  bye \n",
      "1/1 [==============================] - 0s 74ms/step\n",
      "score : 2.5400805879612602  |  have a \n",
      "1/1 [==============================] - 0s 59ms/step\n",
      "score : 2.8944776524617617  |  thanks \n",
      "1/1 [==============================] - 0s 76ms/step\n",
      "score : 3.2401225042445403  |  you too \n",
      "1/1 [==============================] - 0s 42ms/step\n",
      "score : 3.754665409991245  |  same here \n",
      "1/1 [==============================] - 0s 140ms/step\n",
      "-----\n",
      "score : 2.9960385193798054  |  have a good \n",
      "1/1 [==============================] - 0s 63ms/step\n",
      "score : 3.629835501230314  |  you too \n",
      "1/1 [==============================] - 0s 63ms/step\n",
      "score : 3.887243339671484  |  have a great \n",
      "1/1 [==============================] - 0s 103ms/step\n",
      "score : 4.259784269311603  |  same here \n",
      "1/1 [==============================] - 0s 87ms/step\n",
      "score : 5.427137771691541  |  you too have \n",
      "1/1 [==============================] - 0s 110ms/step\n",
      "-----\n",
      "score : 4.0319647015773645  |  have a good night \n",
      "1/1 [==============================] - 0s 133ms/step\n",
      "score : 4.085919790596272  |  have a good day \n",
      "1/1 [==============================] - 0s 79ms/step\n",
      "score : 4.396044614837783  |  have a great day \n",
      "1/1 [==============================] - 0s 54ms/step\n",
      "score : 4.672711842032254  |  have a good one \n",
      "1/1 [==============================] - 0s 57ms/step\n",
      "score : 5.397692591273667  |  have a great night \n",
      "1/1 [==============================] - 0s 68ms/step\n",
      "-----\n"
     ]
    }
   ],
   "source": [
    "generate_beam_text(\"thanks\", 5, 5, False)"
   ]
  },
  {
   "cell_type": "code",
   "execution_count": 28,
   "metadata": {
    "papermill": {
     "duration": 4.499802,
     "end_time": "2021-03-27T10:37:32.782713",
     "exception": false,
     "start_time": "2021-03-27T10:37:28.282911",
     "status": "completed"
    },
    "tags": []
   },
   "outputs": [
    {
     "name": "stdout",
     "output_type": "stream",
     "text": [
      "1/1 [==============================] - 0s 59ms/step\n",
      "1/1 [==============================] - 0s 43ms/step\n",
      "1/1 [==============================] - 0s 78ms/step\n",
      "1/1 [==============================] - 0s 38ms/step\n",
      "1/1 [==============================] - 0s 52ms/step\n",
      "1/1 [==============================] - 0s 30ms/step\n",
      "1/1 [==============================] - 0s 39ms/step\n",
      "1/1 [==============================] - 0s 54ms/step\n",
      "1/1 [==============================] - 0s 60ms/step\n",
      "1/1 [==============================] - 0s 53ms/step\n",
      "1/1 [==============================] - 0s 44ms/step\n",
      "1/1 [==============================] - 0s 42ms/step\n",
      "1/1 [==============================] - 0s 54ms/step\n",
      "1/1 [==============================] - 0s 51ms/step\n",
      "1/1 [==============================] - 0s 50ms/step\n",
      "1/1 [==============================] - 0s 54ms/step\n",
      "1/1 [==============================] - 0s 52ms/step\n",
      "1/1 [==============================] - 0s 28ms/step\n",
      "1/1 [==============================] - 0s 43ms/step\n",
      "1/1 [==============================] - 0s 32ms/step\n",
      "1/1 [==============================] - 0s 48ms/step\n",
      "1/1 [==============================] - 0s 28ms/step\n"
     ]
    },
    {
     "data": {
      "text/plain": [
       "['i do like to ',\n",
       " 'yes i do do ',\n",
       " 'yes i love to ',\n",
       " 'yes i do like ',\n",
       " 'i like ']"
      ]
     },
     "execution_count": 28,
     "metadata": {},
     "output_type": "execute_result"
    }
   ],
   "source": [
    "generate_beam_text(\"hi do you like to dance\", 5, 5, False)"
   ]
  },
  {
   "cell_type": "code",
   "execution_count": 27,
   "metadata": {},
   "outputs": [],
   "source": [
    "from math import log\n",
    "def generate_beam_text(seed_text, next_words, beam_search_n, break_at_eos):\n",
    "    \n",
    "    distributions_scores_states = [[list(), 0.0, [None, None]]]\n",
    "    \n",
    "    decoder_states_value = None\n",
    "    \n",
    "    answers = []\n",
    "    \n",
    "    for _ in range(next_words):\n",
    "        \n",
    "        sequence_temp_candidates = list()\n",
    "        \n",
    "        for i in range(len(distributions_scores_states)): \n",
    "            \n",
    "            input_seq = np.zeros(\n",
    "                (1, max_encoder_seq_length), dtype=\"float32\"\n",
    "            )\n",
    "            \n",
    "            # Generate empty target sequence of length 1.\n",
    "            target_seq = np.zeros((1,1))\n",
    "            \n",
    "            seq, score, states_values = distributions_scores_states[i]\n",
    "            \n",
    "            if len(distributions_scores_states) == 1:\n",
    "                for t, word in enumerate(process(seed_text).split()):\n",
    "                    input_seq[0, t] = input_token_index[word]\n",
    "                \n",
    "                # Encode the input as state vectors.\n",
    "                decoder_states_value = encoder_model.predict(input_seq)\n",
    "                \n",
    "                # Populate the first character of target sequence with the start character.\n",
    "                target_seq[0, 0] = target_token_index['bos']\n",
    "                \n",
    "            else:\n",
    "                target_seq[0, 0] = seq[-1]\n",
    "                decoder_states_value = states_values\n",
    "                \n",
    "                candidate_sentence = \"\"\n",
    "                for token_index in seq:\n",
    "                    if token_index == eos_token:\n",
    "                        break\n",
    "                        \n",
    "                    word = reverse_target_char_index[token_index]\n",
    "                    candidate_sentence+=word + \" \"\n",
    "                \n",
    "                #print(\"score :\", score, \" | \", candidate_sentence)\n",
    "                answers.append((score, candidate_sentence))\n",
    "            \n",
    "            \n",
    "            output_tokens_distribution, h, c = decoder_model.predict([target_seq] + decoder_states_value)\n",
    "            \n",
    "            # Update states\n",
    "            decoder_states_value = [h, c]\n",
    "\n",
    "            predicted_distribution = output_tokens_distribution[0][0]\n",
    "            \n",
    "            for j in range(len(predicted_distribution)):\n",
    "                if predicted_distribution[j] > 0:\n",
    "                    candidate = [seq + [j], score - log(predicted_distribution[j]), decoder_states_value]\n",
    "                    if break_at_eos and j == eos_token:\n",
    "                        continue\n",
    "                    else:\n",
    "                        sequence_temp_candidates.append(candidate)\n",
    "\n",
    "        \n",
    "        # 2. score and sort all candidates\n",
    "        ordered = sorted(sequence_temp_candidates, key=lambda tup:tup[1])\n",
    "        \n",
    "        distributions_scores_states = ordered[:beam_search_n]\n",
    "          \n",
    "        #print(\"-----\")\n",
    "    \n",
    "    final_return_list = [x[1] for x in sorted(answers, reverse = True)[:5]]\n",
    "    return(final_return_list)"
   ]
  },
  {
   "cell_type": "code",
   "execution_count": null,
   "metadata": {},
   "outputs": [],
   "source": []
  }
 ],
 "metadata": {
  "kernelspec": {
   "display_name": "Python 3",
   "language": "python",
   "name": "python3"
  },
  "language_info": {
   "codemirror_mode": {
    "name": "ipython",
    "version": 3
   },
   "file_extension": ".py",
   "mimetype": "text/x-python",
   "name": "python",
   "nbconvert_exporter": "python",
   "pygments_lexer": "ipython3",
   "version": "3.8.5"
  },
  "papermill": {
   "default_parameters": {},
   "duration": 609.075203,
   "end_time": "2021-03-27T10:37:38.482862",
   "environment_variables": {},
   "exception": null,
   "input_path": "__notebook__.ipynb",
   "output_path": "__notebook__.ipynb",
   "parameters": {},
   "start_time": "2021-03-27T10:27:29.407659",
   "version": "2.3.2"
  }
 },
 "nbformat": 4,
 "nbformat_minor": 5
}
